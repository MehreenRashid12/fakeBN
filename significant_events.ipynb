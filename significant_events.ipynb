{
  "cells": [
    {
      "cell_type": "code",
      "execution_count": null,
      "metadata": {
        "id": "pwKC4ebju8lH"
      },
      "outputs": [],
      "source": [
        "!pip install spacy\n",
        "!python -m spacy download en_core_web_sm"
      ]
    },
    {
      "cell_type": "code",
      "source": [
        "import requests\n",
        "from bs4 import BeautifulSoup\n",
        "import pandas as pd\n",
        "import spacy\n",
        "from datetime import datetime\n",
        "from calendar import monthrange"
      ],
      "metadata": {
        "id": "W-cX7-4QeNQp"
      },
      "execution_count": null,
      "outputs": []
    },
    {
      "cell_type": "markdown",
      "source": [],
      "metadata": {
        "id": "SGpRziC-Y46b"
      }
    },
    {
      "cell_type": "code",
      "execution_count": null,
      "metadata": {
        "id": "aj8GUhTh7sig"
      },
      "outputs": [],
      "source": [
        "# Load the spaCy model for NLP tasks\n",
        "nlp = spacy.load(\"en_core_web_sm\")\n",
        "\n",
        "# Function to scrape events from the \"On This Day\" website for a given month and date\n",
        "def scrape_events(month, date):\n",
        "    url = f\"https://www.onthisday.com/events/{month}/{date}\"\n",
        "    response = requests.get(url)\n",
        "    soup = BeautifulSoup(response.content, 'html.parser')\n",
        "\n",
        "    events = []\n",
        "    event_descriptions = soup.select('.event')\n",
        "\n",
        "    for event in event_descriptions:\n",
        "        event_text = event.get_text(strip=True)\n",
        "        if len(event_text) >= 4 and event_text[:4].isdigit():\n",
        "            event_year = int(event_text[:4])\n",
        "            if 2009 <= event_year <= 2022:\n",
        "                event_desc = event_text[4:].strip()  # Remove the year part\n",
        "                event_date = f\"{event_year}-{month}-{date}\"\n",
        "                events.append({\n",
        "                    'date': event_date,\n",
        "                    'event': event_desc\n",
        "                })\n",
        "\n",
        "    return events\n",
        "\n",
        "# List to store all events\n",
        "all_events = []\n",
        "\n",
        "# Loop through all months and dates\n",
        "for month in range(1, 13):\n",
        "    month_name = datetime(2023, month, 1).strftime('%B').lower()\n",
        "    days_in_month = monthrange(2023, month)[1]\n",
        "    for date in range(1, days_in_month + 1):\n",
        "        events = scrape_events(month_name, str(date))\n",
        "        all_events.extend(events)\n",
        "\n",
        "# Convert the list of events to a DataFrame\n",
        "df = pd.DataFrame(all_events)\n",
        "\n",
        "# Convert the 'date' column to datetime format for proper sorting\n",
        "df['date'] = pd.to_datetime(df['date'], format='%Y-%B-%d')\n",
        "\n",
        "# Sort the DataFrame by date\n",
        "df = df.sort_values(by='date')\n",
        "\n",
        "# Save the DataFrame to a CSV file\n",
        "df.to_csv('/content/drive/MyDrive/fakeBN/data/on_this_day_events_2009_2022.csv', index=False)\n"
      ]
    }
  ],
  "metadata": {
    "colab": {
      "provenance": []
    },
    "kernelspec": {
      "display_name": "Python 3",
      "name": "python3"
    },
    "language_info": {
      "name": "python"
    }
  },
  "nbformat": 4,
  "nbformat_minor": 0
}